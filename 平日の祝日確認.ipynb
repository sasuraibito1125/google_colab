{
  "nbformat": 4,
  "nbformat_minor": 0,
  "metadata": {
    "colab": {
      "provenance": [],
      "authorship_tag": "ABX9TyMlmvSB3jRJ6vSUJtKq5wvr",
      "include_colab_link": true
    },
    "kernelspec": {
      "name": "python3",
      "display_name": "Python 3"
    },
    "language_info": {
      "name": "python"
    }
  },
  "cells": [
    {
      "cell_type": "markdown",
      "metadata": {
        "id": "view-in-github",
        "colab_type": "text"
      },
      "source": [
        "<a href=\"https://colab.research.google.com/github/sasuraibito1125/google_colab/blob/main/%E5%B9%B3%E6%97%A5%E3%81%AE%E7%A5%9D%E6%97%A5%E7%A2%BA%E8%AA%8D.ipynb\" target=\"_parent\"><img src=\"https://colab.research.google.com/assets/colab-badge.svg\" alt=\"Open In Colab\"/></a>"
      ]
    },
    {
      "cell_type": "code",
      "source": [
        "#@title 平日の祝日確認 { run: \"auto\", vertical-output: true, display-mode: \"form\" }\n",
        "!pip install -qq jpholiday\n",
        "import jpholiday\n",
        "from datetime import date, timedelta\n",
        "\n",
        "# input\n",
        "#@markdown 対象年\n",
        "target_year = 2023 #@param {type:\"integer\"}\n",
        "#@markdown 残のみ（対象年が今年のみ有効）\n",
        "only_rest = True #@param {type:\"boolean\"}\n",
        "\n",
        "# constants\n",
        "week_names =  ['月曜日', '火曜日', '水曜日', '木曜日', '金曜日', '土曜日', '日曜日']\n",
        "\n",
        "# main\n",
        "holidays = []\n",
        "today = date.today()\n",
        "total_count = 0\n",
        "\n",
        "if not target_year:\n",
        "  target_year = today.year\n",
        "d = today if target_year == today.year and only_rest else date(target_year, 1, 1)\n",
        "while (d.year == target_year):\n",
        "  if jpholiday.is_holiday(d):\n",
        "    total_count += 1\n",
        "    if d.weekday() < 5:\n",
        "      holidays.append(d)\n",
        "      # print(d, week_names[d.weekday()])\n",
        "  d = d + timedelta(1)\n",
        "else:\n",
        "  holidays.sort(key=lambda d: d.weekday())\n",
        "\n",
        "print(f'{target_year:04d}年の平日の祝日（{\"残\" if only_rest else \"全\"}）：')\n",
        "[print(d, week_names[d.weekday()]) for d in holidays]\n",
        "print()\n",
        "count = len(holidays)\n",
        "print(f'平日の祝日：{count:02d}日')\n",
        "print(f'休日の祝日：{total_count - count:02d}日')\n",
        "print(f'祝日の合計：{total_count:02d}日')"
      ],
      "metadata": {
        "id": "x1zOcXnSs4ON",
        "colab": {
          "base_uri": "https://localhost:8080/"
        },
        "outputId": "747527b3-7975-484d-ce56-38f203b6a12a"
      },
      "execution_count": null,
      "outputs": [
        {
          "output_type": "stream",
          "name": "stdout",
          "text": [
            "2023年の平日の祝日（残）：\n",
            "2023-07-17 月曜日\n",
            "2023-09-18 月曜日\n",
            "2023-10-09 月曜日\n",
            "2023-11-23 木曜日\n",
            "2023-08-11 金曜日\n",
            "2023-11-03 金曜日\n",
            "\n",
            "平日の祝日：06日\n",
            "休日の祝日：01日\n",
            "祝日の合計：07日\n"
          ]
        }
      ]
    }
  ]
}