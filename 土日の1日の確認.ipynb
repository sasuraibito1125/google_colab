{
  "nbformat": 4,
  "nbformat_minor": 0,
  "metadata": {
    "colab": {
      "provenance": [],
      "authorship_tag": "ABX9TyOCRsjo2wFAmFAWC7/g6slm",
      "include_colab_link": true
    },
    "kernelspec": {
      "name": "python3",
      "display_name": "Python 3"
    },
    "language_info": {
      "name": "python"
    }
  },
  "cells": [
    {
      "cell_type": "markdown",
      "metadata": {
        "id": "view-in-github",
        "colab_type": "text"
      },
      "source": [
        "<a href=\"https://colab.research.google.com/github/sasuraibito1125/google_colab/blob/main/%E5%9C%9F%E6%97%A5%E3%81%AE1%E6%97%A5%E3%81%AE%E7%A2%BA%E8%AA%8D.ipynb\" target=\"_parent\"><img src=\"https://colab.research.google.com/assets/colab-badge.svg\" alt=\"Open In Colab\"/></a>"
      ]
    },
    {
      "cell_type": "code",
      "source": [
        "#@title ### 土日の1日の確認 { run: \"auto\", vertical-output: true, display-mode: \"form\" }\n",
        "from datetime import date\n",
        "from dateutil.relativedelta import relativedelta\n",
        "\n",
        "# input\n",
        "#@markdown 対象年\n",
        "target_year = 2023 #@param {type:\"integer\"}\n",
        "#@markdown 残のみ（対象年が今年のみ有効）\n",
        "only_rest = True #@param {type:\"boolean\"}\n",
        "\n",
        "# constants\n",
        "week_names =  ['月曜日', '火曜日', '水曜日', '木曜日', '金曜日', '土曜日', '日曜日']\n",
        "\n",
        "# main\n",
        "first_days = []\n",
        "today = date.today()\n",
        "\n",
        "if not target_year:\n",
        "  target_year = today.year\n",
        "d = today if target_year == today.year and only_rest else date(target_year, 1, 1)\n",
        "while (d.year == target_year):\n",
        "  if d.day == 1:\n",
        "    if d.weekday() > 4:\n",
        "      first_days.append(d)\n",
        "  else:\n",
        "    d = date(d.year, d.month, 1)\n",
        "  d = d + relativedelta(months=1)\n",
        "\n",
        "print(f'{target_year:04d}年の土日の1日（{\"残\" if only_rest else \"全\"}）：')\n",
        "_ = [print(f'{d} {week_names[d.weekday()]}') for d in first_days]\n"
      ],
      "metadata": {
        "colab": {
          "base_uri": "https://localhost:8080/"
        },
        "outputId": "5f22fdd2-f10d-4c88-cde2-f2483e42bbee",
        "id": "LTs1VTiMozQj"
      },
      "execution_count": null,
      "outputs": [
        {
          "output_type": "stream",
          "name": "stdout",
          "text": [
            "2023年の土日の1日（残）：\n",
            "2023-07-01 土曜日\n",
            "2023-10-01 日曜日\n"
          ]
        }
      ]
    }
  ]
}