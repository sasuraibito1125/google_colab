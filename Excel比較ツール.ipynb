{
  "nbformat": 4,
  "nbformat_minor": 0,
  "metadata": {
    "colab": {
      "provenance": [],
      "collapsed_sections": [
        "rxlJ0PPsOGV0"
      ],
      "authorship_tag": "ABX9TyME09lLm7/vhbEaWRjzoHDJ",
      "include_colab_link": true
    },
    "kernelspec": {
      "name": "python3",
      "display_name": "Python 3"
    },
    "language_info": {
      "name": "python"
    }
  },
  "cells": [
    {
      "cell_type": "markdown",
      "metadata": {
        "id": "view-in-github",
        "colab_type": "text"
      },
      "source": [
        "<a href=\"https://colab.research.google.com/github/sasuraibito1125/google_colab/blob/main/Excel%E6%AF%94%E8%BC%83%E3%83%84%E3%83%BC%E3%83%AB.ipynb\" target=\"_parent\"><img src=\"https://colab.research.google.com/assets/colab-badge.svg\" alt=\"Open In Colab\"/></a>"
      ]
    },
    {
      "cell_type": "markdown",
      "source": [
        "# 比較ツール"
      ],
      "metadata": {
        "id": "rxlJ0PPsOGV0"
      }
    },
    {
      "cell_type": "code",
      "source": [
        "!pip -qq install openpyxl"
      ],
      "metadata": {
        "id": "_tsIUgfwOGV0"
      },
      "execution_count": null,
      "outputs": []
    },
    {
      "cell_type": "code",
      "source": [
        "# @title #### Excelファイル内容の正規化 { display-mode: \"form\" }\n",
        "\n",
        "# @markdown 関数名：`normalize_excel_contents`\n",
        "\n",
        "# @markdown キー項目：\n",
        "# @markdown  * `sheet_name`\n",
        "# @markdown  * `min_row`\n",
        "# @markdown  * `max_row`\n",
        "# @markdown  * `min_col`\n",
        "# @markdown  * `max_col`\n",
        "# @markdown  * `values`\n",
        "def normalize_excel_contents(filename, verbose=False):\n",
        "  '''Excelファイルの内容を正規化する。\n",
        "\n",
        "    Parameters:\n",
        "    -----------\n",
        "      filename: 処理対象のExcelファイル名\n",
        "      verbose: 冗長出力有効フラグ\n",
        "\n",
        "    Returns:\n",
        "    --------\n",
        "      dict: キーは 'sheet_name', 'min_row', 'max_row', 'min_col', 'max_col', and 'values'。\n",
        "            'sheet_name'の型は文字列、'values'は各セルの型の二次元リスト、それ以外は正の整数。\n",
        "  '''\n",
        "  from openpyxl import load_workbook\n",
        "  wb = load_workbook(filename, read_only=True)\n",
        "  sheetnames = wb.sheetnames\n",
        "  result = []\n",
        "\n",
        "  for name in sheetnames:\n",
        "    normalized = {}\n",
        "    normalized['sheet_name'] = name\n",
        "\n",
        "    ws = wb[name]\n",
        "\n",
        "    data_range = {\n",
        "      'min_row': ws.min_row,\n",
        "      'max_row': ws.max_row,\n",
        "      'min_col': ws.min_column,\n",
        "      'max_col': ws.max_column,\n",
        "    }\n",
        "    normalized['min_row'] = data_range['min_row']\n",
        "    normalized['max_row'] = data_range['max_row']\n",
        "    normalized['min_col'] = data_range['min_col']\n",
        "    normalized['max_col'] = data_range['max_col']\n",
        "    if verbose:\n",
        "      print('行数:', data_range['max_row'] - data_range['min_row'],\n",
        "            '列数:', data_range['max_col'] - data_range['min_col'])\n",
        "\n",
        "    normalized['values'] = []\n",
        "    for row in ws.iter_rows(**data_range):\n",
        "      cells = []\n",
        "      for cell in row:\n",
        "        if verbose and cell.value:\n",
        "          print(f'{cell.coordinate}({cell.row}, {cell.column})', cell.value)\n",
        "        cells.append(cell.value)\n",
        "      normalized['values'].append(cells)\n",
        "\n",
        "    result.append(normalized)\n",
        "\n",
        "  return result\n"
      ],
      "metadata": {
        "id": "x6qXGAbBOGV1"
      },
      "execution_count": null,
      "outputs": []
    },
    {
      "cell_type": "code",
      "source": [
        "# @title #### 正規化されたExcelデータの差分を出力 { display-mode: \"form\" }\n",
        "\n",
        "# @markdown 関数名：`diff_normalized_excel_data`\n",
        "\n",
        "# @markdown キー項目：\n",
        "# @markdown  * シート数\n",
        "# @markdown  * シート名\n",
        "# @markdown  * 最小行数\n",
        "# @markdown  * 最大行数\n",
        "# @markdown  * 最小列数\n",
        "# @markdown  * 最大列数\n",
        "# @markdown  * セル値\n",
        "def diff_normalized_excel_data(first, second, verbose=False):\n",
        "  '''正規化されたExcelデータの差分だけを出力する。\n",
        "\n",
        "    Parameters:\n",
        "    -----------\n",
        "      first: 一つ目の正規化されたExcelデータ\n",
        "      second: 二つ目の正規化されたExcelデータ\n",
        "      verbose: 冗長出力有効フラグ\n",
        "\n",
        "    Returns:\n",
        "    --------\n",
        "      TODO\n",
        "  '''\n",
        "  from itertools import zip_longest, count\n",
        "\n",
        "  result = {}\n",
        "\n",
        "  len_1st = len(first)\n",
        "  len_2nd = len(second)\n",
        "  if len_1st != len_2nd:\n",
        "    result['シート数'] = (len_1st, len_2nd)\n",
        "  if verbose:\n",
        "    print('シート数が異なる' if 'シート数' in result else 'シート数が同じ')\n",
        "\n",
        "  def diff_ws(i, s1, s2, key, result, result_key, verbose):\n",
        "    if s1 and s2 and s1[key] != s2[key] or not s1 or not s2:\n",
        "      diff = { i: (s1[key] if s1 else None, s2[key] if s2 else None) }\n",
        "\n",
        "      if verbose:\n",
        "        if not result_key in result:\n",
        "          print(f'{result_key}が異なる')\n",
        "        print(result_key, diff)\n",
        "\n",
        "      if result_key in result:\n",
        "        result[result_key].append(diff)\n",
        "      else:\n",
        "        result[result_key] = [diff]\n",
        "\n",
        "  for i, s1, s2 in zip_longest(range(max(len_1st, len_2nd)), first, second):\n",
        "    sheet_result = {}\n",
        "    diff_ws(i, s1, s2, 'sheet_name', sheet_result, 'シート名', verbose)\n",
        "    diff_ws(i, s1, s2, 'min_row', sheet_result, '最小行数', verbose)\n",
        "    diff_ws(i, s1, s2, 'max_row', sheet_result, '最大行数', verbose)\n",
        "    diff_ws(i, s1, s2, 'min_col', sheet_result, '最小列数', verbose)\n",
        "    diff_ws(i, s1, s2, 'max_col', sheet_result, '最大列数', verbose)\n",
        "\n",
        "    if verbose:\n",
        "      for key in ['シート名', '最小行数', '最大行数', '最小列数', '最大列数']:\n",
        "        if not key in sheet_result:\n",
        "          print(f'{key}が同じ')\n",
        "\n",
        "    # セル値チェックは両方ともあるものだけ\n",
        "    if s1 and s2:\n",
        "      for j, (r1, r2) in enumerate(zip(s1['values'], s2['values'])):\n",
        "        for k, (c1, c2) in enumerate(zip(r1, r2)):\n",
        "          if c1 != c2:\n",
        "            diff = { (j, k): (c1, c2) }\n",
        "            if 'セル値' in sheet_result:\n",
        "              sheet_result['セル値'].append(diff)\n",
        "            else:\n",
        "              sheet_result['セル値'] = [diff]\n",
        "\n",
        "    if 'シート' in result:\n",
        "      result['シート'].append(sheet_result)\n",
        "    else:\n",
        "      result['シート'] = [sheet_result]\n",
        "\n",
        "  return result\n"
      ],
      "metadata": {
        "id": "nD-FVXXCOGV1"
      },
      "execution_count": null,
      "outputs": []
    },
    {
      "cell_type": "markdown",
      "source": [
        "# ツール利用"
      ],
      "metadata": {
        "id": "A749OwirLQb3"
      }
    },
    {
      "cell_type": "markdown",
      "source": [
        "#### 手順"
      ],
      "metadata": {
        "id": "jIFBjI-gOyou"
      }
    },
    {
      "cell_type": "markdown",
      "source": [
        "1. 比較する2つのExcelファイルをアップロードする\n",
        "2. 下記フォームにファイル名を設定する\n",
        "3. ファイル全体を実行する"
      ],
      "metadata": {
        "id": "z6kxaczVO3LW"
      }
    },
    {
      "cell_type": "code",
      "source": [
        "# @title #### Excelファイル比較 { run: \"auto\", display-mode: \"form\" }\n",
        "# @markdown Excelファイル名（1つ目）\n",
        "filename1 = \"foo.xlsx\" # @param {type:\"string\"}\n",
        "# @markdown Excelファイル名（2つ目）\n",
        "filename2 = \"bar.xlsx\" # @param {type:\"string\"}\n",
        "\n",
        "result = diff_normalized_excel_data(normalize_excel_contents(filename1),\n",
        "                                    normalize_excel_contents(filename2))\n",
        "result"
      ],
      "metadata": {
        "id": "ZTd5fTZ_OXVn"
      },
      "execution_count": null,
      "outputs": []
    }
  ]
}