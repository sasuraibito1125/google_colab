{
  "nbformat": 4,
  "nbformat_minor": 0,
  "metadata": {
    "colab": {
      "provenance": [],
      "authorship_tag": "ABX9TyN0hCl607W1Z+Z9ALzMK//i",
      "include_colab_link": true
    },
    "kernelspec": {
      "name": "python3",
      "display_name": "Python 3"
    },
    "language_info": {
      "name": "python"
    }
  },
  "cells": [
    {
      "cell_type": "markdown",
      "metadata": {
        "id": "view-in-github",
        "colab_type": "text"
      },
      "source": [
        "<a href=\"https://colab.research.google.com/github/sasuraibito1125/google_colab/blob/main/%E6%97%A5%E6%95%B0%E8%A8%88%E7%AE%97.ipynb\" target=\"_parent\"><img src=\"https://colab.research.google.com/assets/colab-badge.svg\" alt=\"Open In Colab\"/></a>"
      ]
    },
    {
      "cell_type": "code",
      "source": [
        "#@title 日数計算 {display-mode: \"form\"}\n",
        "from datetime import datetime\n",
        "\n",
        "date_format = '%Y-%m-%d'\n",
        "\n",
        "#@markdown 日付１を選択\n",
        "日付１ = '2023-06-09'  #@param {type: \"date\"}\n",
        "#@markdown 日付２を選択\n",
        "日付２ = '2023-06-09'  #@param {type: \"date\"}\n",
        "\n",
        "delta = datetime.strptime(日付２, date_format) - datetime.strptime(日付１, date_format)\n",
        "print('日数：', abs(delta.days), '日')"
      ],
      "metadata": {
        "colab": {
          "base_uri": "https://localhost:8080/"
        },
        "id": "7c6vhi37lc3p",
        "outputId": "d7feb023-a51a-4714-d517-c9096e41bba1"
      },
      "execution_count": 1,
      "outputs": [
        {
          "output_type": "stream",
          "name": "stdout",
          "text": [
            "日数： 0 日\n"
          ]
        }
      ]
    }
  ]
}