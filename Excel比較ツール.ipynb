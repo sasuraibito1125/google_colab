{
  "nbformat": 4,
  "nbformat_minor": 0,
  "metadata": {
    "colab": {
      "provenance": [],
      "collapsed_sections": [
        "rxlJ0PPsOGV0",
        "rexL4VHdDenE",
        "u4QGO8McDbkK"
      ],
      "authorship_tag": "ABX9TyOgxTXZNnaNd2XBWd0Xw+0B",
      "include_colab_link": true
    },
    "kernelspec": {
      "name": "python3",
      "display_name": "Python 3"
    },
    "language_info": {
      "name": "python"
    }
  },
  "cells": [
    {
      "cell_type": "markdown",
      "metadata": {
        "id": "view-in-github",
        "colab_type": "text"
      },
      "source": [
        "<a href=\"https://colab.research.google.com/github/sasuraibito1125/google_colab/blob/main/Excel%E6%AF%94%E8%BC%83%E3%83%84%E3%83%BC%E3%83%AB.ipynb\" target=\"_parent\"><img src=\"https://colab.research.google.com/assets/colab-badge.svg\" alt=\"Open In Colab\"/></a>"
      ]
    },
    {
      "cell_type": "markdown",
      "source": [
        "# 概要"
      ],
      "metadata": {
        "id": "BquQHaXcBWrv"
      }
    },
    {
      "cell_type": "markdown",
      "source": [
        "単純にExcelの内容をセル・バイ・セルで比較するツール。"
      ],
      "metadata": {
        "id": "V6URkHWwBZYV"
      }
    },
    {
      "cell_type": "markdown",
      "source": [
        "# Excel比較関数定義"
      ],
      "metadata": {
        "id": "rxlJ0PPsOGV0"
      }
    },
    {
      "cell_type": "code",
      "source": [
        "!pip -qq install openpyxl"
      ],
      "metadata": {
        "id": "Iw5-Xbm04o3V"
      },
      "execution_count": null,
      "outputs": []
    },
    {
      "cell_type": "code",
      "source": [
        "# @title #### Excelファイル内容を正規化 { display-mode: \"form\" }\n",
        "\n",
        "# @markdown 関数名：`normalize_excel_contents`\n",
        "\n",
        "# @markdown キー項目：\n",
        "# @markdown  * `sheet_name`\n",
        "# @markdown  * `min_row`\n",
        "# @markdown  * `max_row`\n",
        "# @markdown  * `min_col`\n",
        "# @markdown  * `max_col`\n",
        "# @markdown  * `values`\n",
        "def normalize_excel_contents(filename, verbose=False):\n",
        "  '''Excelファイルの内容を正規化する。\n",
        "\n",
        "    Parameters:\n",
        "    -----------\n",
        "      filename: 処理対象のExcelファイル名\n",
        "      verbose : 冗長出力有効フラグ\n",
        "\n",
        "    Returns:\n",
        "    --------\n",
        "      dict: 正規化されたデータ。\n",
        "            キーは 'sheet_name', 'min_row', 'max_row', 'min_col', 'max_col', 'values'。\n",
        "            'sheet_name'の型は文字列、'values'は各セルの型の二次元リスト、それ以外は正の整数。\n",
        "  '''\n",
        "  from openpyxl import load_workbook\n",
        "  wb = load_workbook(filename, read_only=True)\n",
        "  sheetnames = wb.sheetnames\n",
        "  _result = []\n",
        "\n",
        "  for name in sheetnames:\n",
        "    normalized = {}\n",
        "    normalized['sheet_name'] = name\n",
        "\n",
        "    ws = wb[name]\n",
        "\n",
        "    data_range = {\n",
        "      'min_row': ws.min_row,\n",
        "      'max_row': ws.max_row,\n",
        "      'min_col': ws.min_column,\n",
        "      'max_col': ws.max_column,\n",
        "    }\n",
        "    normalized['min_row'] = data_range['min_row']\n",
        "    normalized['max_row'] = data_range['max_row']\n",
        "    normalized['min_col'] = data_range['min_col']\n",
        "    normalized['max_col'] = data_range['max_col']\n",
        "    if verbose:\n",
        "      print('行数:', data_range['max_row'] - data_range['min_row'],\n",
        "            '列数:', data_range['max_col'] - data_range['min_col'])\n",
        "\n",
        "    normalized['values'] = []\n",
        "    for row in ws.iter_rows(**data_range):\n",
        "      cells = []\n",
        "      for cell in row:\n",
        "        if verbose and cell.value:\n",
        "          print(f'{cell.coordinate}({cell.row}, {cell.column})', cell.value)\n",
        "        cells.append(cell.value)\n",
        "      normalized['values'].append(cells)\n",
        "\n",
        "    _result.append(normalized)\n",
        "\n",
        "  return _result\n"
      ],
      "metadata": {
        "id": "XfYJdeAc4r_H"
      },
      "execution_count": null,
      "outputs": []
    },
    {
      "cell_type": "code",
      "source": [
        "# @title #### 正規化されたExcelデータの差分を出力 { display-mode: \"form\" }\n",
        "\n",
        "# @markdown 関数名：`diff_normalized_excel_data`\n",
        "\n",
        "# @markdown キー項目：\n",
        "# @markdown  * シート数\n",
        "# @markdown  * シート\n",
        "# @markdown   * シート名\n",
        "# @markdown   * 最小行数\n",
        "# @markdown   * 最大行数\n",
        "# @markdown   * 最小列数\n",
        "# @markdown   * 最大列数\n",
        "# @markdown   * セル値\n",
        "def diff_normalized_excel_data(first, second, verbose=False):\n",
        "  '''正規化されたExcelデータの差分を出力する。\n",
        "\n",
        "    Parameters:\n",
        "    -----------\n",
        "      first  : 一つ目の正規化されたExcelデータ\n",
        "      second : 二つ目の正規化されたExcelデータ\n",
        "      verbose: 冗長出力有効フラグ\n",
        "\n",
        "    Returns:\n",
        "    --------\n",
        "      dict: 比較結果。\n",
        "            キーは差分があったものだけが設定される。\n",
        "            キーは 'シート数', 'シート名', '最小行数', '最大行数', '最小列数', '最大列数', and 'シート'。\n",
        "            'シート'の値は'セル値'がキーで差分情報のdictの配列。\n",
        "            セルの差分情報はキーが行番号と列番号のtuple，値が一番目と二番目のセル値のtuple。\n",
        "  '''\n",
        "  from itertools import zip_longest, count\n",
        "\n",
        "  _result = {}\n",
        "\n",
        "  len_1st = len(first)\n",
        "  len_2nd = len(second)\n",
        "  if len_1st != len_2nd:\n",
        "    _result['シート数'] = (len_1st, len_2nd)\n",
        "  if verbose:\n",
        "    print('シート数が異なる' if 'シート数' in _result else 'シート数が同じ')\n",
        "\n",
        "  def diff_ws(i, s1, s2, key, _result, result_key, verbose):\n",
        "    '''シート情報の比較\n",
        "\n",
        "    Parameters\n",
        "    ----------\n",
        "      i         : 比較対象のシートのインデックス\n",
        "      s1        : 一つ目の比較対象のシートデータ\n",
        "      s2        : 二つ目の比較対象のシートデータ\n",
        "      key       : シートデータのキー名\n",
        "      _result   : 比較結果出力用dict\n",
        "      result_key: 比較結果出力用dictのキー名\n",
        "      verbose   : 冗長出力有効フラグ\n",
        "\n",
        "    Returns\n",
        "    -------\n",
        "      None\n",
        "    '''\n",
        "    if s1 and s2 and s1[key] != s2[key] or not s1 or not s2:\n",
        "      diff = { i: (s1[key] if s1 else None, s2[key] if s2 else None) }\n",
        "\n",
        "      if verbose:\n",
        "        if not result_key in _result:\n",
        "          print(f'{result_key}が異なる')\n",
        "        print(result_key, diff)\n",
        "\n",
        "      if result_key in _result:\n",
        "        _result[result_key].append(diff)\n",
        "      else:\n",
        "        _result[result_key] = [diff]\n",
        "\n",
        "  for i, s1, s2 in zip_longest(range(max(len_1st, len_2nd)), first, second):\n",
        "    sheet_result = {}\n",
        "    diff_ws(i, s1, s2, 'sheet_name', sheet_result, 'シート名', verbose)\n",
        "    diff_ws(i, s1, s2, 'min_row', sheet_result, '最小行数', verbose)\n",
        "    diff_ws(i, s1, s2, 'max_row', sheet_result, '最大行数', verbose)\n",
        "    diff_ws(i, s1, s2, 'min_col', sheet_result, '最小列数', verbose)\n",
        "    diff_ws(i, s1, s2, 'max_col', sheet_result, '最大列数', verbose)\n",
        "\n",
        "    if verbose:\n",
        "      for key in ['シート名', '最小行数', '最大行数', '最小列数', '最大列数']:\n",
        "        if not key in sheet_result:\n",
        "          print(f'{key}が同じ')\n",
        "\n",
        "    # セル値チェックは両方ともあるものだけ\n",
        "    if s1 and s2:\n",
        "      for j, (r1, r2) in enumerate(zip(s1['values'], s2['values'])):\n",
        "        for k, (c1, c2) in enumerate(zip(r1, r2)):\n",
        "          if c1 != c2:\n",
        "            diff = { (j, k): (c1, c2) }\n",
        "            if 'セル値' in sheet_result:\n",
        "              sheet_result['セル値'].append(diff)\n",
        "            else:\n",
        "              sheet_result['セル値'] = [diff]\n",
        "\n",
        "    if 'シート' in _result:\n",
        "      _result['シート'].append(sheet_result)\n",
        "    else:\n",
        "      _result['シート'] = [sheet_result]\n",
        "\n",
        "  return _result\n"
      ],
      "metadata": {
        "id": "9GsND_qBrq4R"
      },
      "execution_count": null,
      "outputs": []
    },
    {
      "cell_type": "code",
      "source": [
        "# @title #### サマリ { display-mode: \"form\" }\n",
        "\n",
        "# @markdown 関数名：`summarize`\n",
        "def summarize(diff):\n",
        "  '''サマリ情報をプリントする。\n",
        "\n",
        "    Parameters\n",
        "    ----------\n",
        "      diff: 差分情報\n",
        "\n",
        "    Returns\n",
        "    -------\n",
        "      None\n",
        "  '''\n",
        "  if not diff:\n",
        "    print('比較失敗')\n",
        "    return\n",
        "  print('シートの差分数:', len(diff['シート']))\n",
        "  for i, s in enumerate(diff['シート']):\n",
        "    print(f'シート#{i}のセル値の差分数:', len(s['セル値']) if 'セル値' in s else None)"
      ],
      "metadata": {
        "id": "mOXDgh7BP_kt"
      },
      "execution_count": null,
      "outputs": []
    },
    {
      "cell_type": "code",
      "source": [
        "# @title #### ディレクトリ内の全Excelファイルに対する比較 { display-mode: \"form\" }\n",
        "\n",
        "# @markdown 関数名：`diff_in_dirs`\n",
        "\n",
        "# @markdown 制約条件として比較するExcelのファイル名は同じものとする。また，一つ目のディレクトリ内のファイルとの比較のため，二つ目のディレクトリ内にのみ存在するファイルは比較されない（無視される）。\n",
        "def diff_in_dirs(dir_1st = 'first', dir_2nd = 'second', summary=False, verbose=False):\n",
        "  '''ディレクトリ内の全Excelファイルに対する比較する\n",
        "\n",
        "    一つ目のディレクトリ内のExcelファイルと同名の二つ目のディレクトリ内のファイルを比較する。\n",
        "    よって，二つ目のディレクトリにのみ存在するファイルは差分に反映されない。\n",
        "\n",
        "    Parameters\n",
        "    ----------\n",
        "      dir_1st: 一つ目のディレクトリ名。デフォルトは'first'。\n",
        "      dir_2nd: 二つ目のディレクトリ名。デフォルトは'second'。\n",
        "      summary: サマリ出力有効フラグ。\n",
        "      verbose: 冗長出力有効フラグ。\n",
        "\n",
        "    Returns\n",
        "    -------\n",
        "      dict: 差分情報。\n",
        "            キーはファイル名。\n",
        "\n",
        "  '''\n",
        "  import os\n",
        "\n",
        "  diff_map = {}\n",
        "\n",
        "  for filename in [f for f in os.listdir(dir_1st) if os.path.isfile(f'{dir_1st}/{f}') and f.endswith('.xlsx')]:\n",
        "    try:\n",
        "      diff_map[filename] = diff_normalized_excel_data(normalize_excel_contents(f'{dir_1st}/{filename}', verbose),\n",
        "                                                      normalize_excel_contents(f'{dir_2nd}/{filename}', verbose),\n",
        "                                                      verbose)\n",
        "    except FileNotFoundError as e:\n",
        "      print('ERROR: 対応するファイルがありません', e)\n",
        "      diff_map[filename] = None\n",
        "    except Exception as e:\n",
        "      print('ERROR: 問題が発生しました', e)\n",
        "      diff_map[filename] = None\n",
        "\n",
        "    if verbose:\n",
        "      print(f'{filename}:', diff_map[filename])\n",
        "\n",
        "    if summary:\n",
        "      print(f'SUMMARY({filename}):')\n",
        "      summarize(diff_map[filename])\n",
        "\n",
        "  return diff_map\n"
      ],
      "metadata": {
        "id": "rfCjXDHbyZnz"
      },
      "execution_count": null,
      "outputs": []
    },
    {
      "cell_type": "markdown",
      "source": [
        "# ツール利用"
      ],
      "metadata": {
        "id": "A749OwirLQb3"
      }
    },
    {
      "cell_type": "markdown",
      "source": [
        "## 個別"
      ],
      "metadata": {
        "id": "rexL4VHdDenE"
      }
    },
    {
      "cell_type": "markdown",
      "source": [
        "### 手順"
      ],
      "metadata": {
        "id": "jIFBjI-gOyou"
      }
    },
    {
      "cell_type": "markdown",
      "source": [
        "1. 比較するExcelファイルをアップロードする\n",
        "2. 下記フォームにファイル名を設定する\n",
        "3. 「比較ツール」のセクションを実行する\n",
        "4. 「個別Excelファイル比較」を実行する\n",
        "4. 「ディレクトリ内の全Excelファイルに対する比較」を実行する"
      ],
      "metadata": {
        "id": "z6kxaczVO3LW"
      }
    },
    {
      "cell_type": "code",
      "source": [
        "# @title #### 個別Excelファイルの比較 { display-mode: \"form\" }\n",
        "# @markdown Excelファイル名（1つ目）\n",
        "filename_1st = \"foo.xlsx\" # @param {type:\"string\"}\n",
        "# @markdown Excelファイル名（2つ目）\n",
        "filename_2nd = \"bar.xlsx\" # @param {type:\"string\"}\n",
        "# @markdown サマリ出力\n",
        "with_summrize = True # @param {type:\"boolean\"}\n",
        "# @markdown デバッグ出力\n",
        "verbose = False # @param {type:\"boolean\"}\n",
        "\n",
        "result = diff_normalized_excel_data(normalize_excel_contents(filename_1st),\n",
        "                                    normalize_excel_contents(filename_2nd),\n",
        "                                    verbose)\n",
        "\n",
        "if with_summrize:\n",
        "  summarize(result)\n"
      ],
      "metadata": {
        "id": "81Vodh3UDoOG"
      },
      "execution_count": null,
      "outputs": []
    },
    {
      "cell_type": "markdown",
      "source": [
        "## ディレクトリ比較"
      ],
      "metadata": {
        "id": "u4QGO8McDbkK"
      }
    },
    {
      "cell_type": "markdown",
      "source": [
        "### 手順"
      ],
      "metadata": {
        "id": "XbSabonwWfn7"
      }
    },
    {
      "cell_type": "markdown",
      "source": [
        "1. 比較する2つのディレクトリを作成する\n",
        "2. 各ディレクトリに比較するExcelファイルを**同じ名前**でアップロードする\n",
        "3. 下記フォームにファイル名を設定する\n",
        "4. 「比較ツール」のセクションを実行する\n",
        "5. 「ディレクトリ内の全Excelファイルに対する比較」を実行する"
      ],
      "metadata": {
        "id": "inqEiKkwWfn7"
      }
    },
    {
      "cell_type": "code",
      "source": [
        "# @title #### ディレクトリ内の全Excelファイルの比較\n",
        "# @markdown ディレクトリ名（1つ目）\n",
        "dir_1st = \"before\" # @param {type:\"string\"}\n",
        "# @markdown ディレクトリ名（2つ目）\n",
        "dir_2nd = \"after\" # @param {type:\"string\"}\n",
        "# @markdown サマリ出力\n",
        "with_summrize = True # @param {type:\"boolean\"}\n",
        "# @markdown デバッグ出力\n",
        "verbose = False # @param {type:\"boolean\"}\n",
        "\n",
        "result = diff_in_dirs(dir_1st, dir_2nd, with_summrize, verbose)\n"
      ],
      "metadata": {
        "id": "DcQNzVkTAuEq",
        "cellView": "form"
      },
      "execution_count": null,
      "outputs": []
    }
  ]
}