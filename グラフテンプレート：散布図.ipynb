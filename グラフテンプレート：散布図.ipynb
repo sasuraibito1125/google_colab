{
  "nbformat": 4,
  "nbformat_minor": 0,
  "metadata": {
    "colab": {
      "provenance": [],
      "toc_visible": true,
      "authorship_tag": "ABX9TyPuqarpru/WyRIngC3GtTI0",
      "include_colab_link": true
    },
    "kernelspec": {
      "name": "python3",
      "display_name": "Python 3"
    },
    "language_info": {
      "name": "python"
    }
  },
  "cells": [
    {
      "cell_type": "markdown",
      "metadata": {
        "id": "view-in-github",
        "colab_type": "text"
      },
      "source": [
        "<a href=\"https://colab.research.google.com/github/sasuraibito1125/google_colab/blob/main/%E3%82%B0%E3%83%A9%E3%83%95%E3%83%86%E3%83%B3%E3%83%97%E3%83%AC%E3%83%BC%E3%83%88%EF%BC%9A%E6%95%A3%E5%B8%83%E5%9B%B3.ipynb\" target=\"_parent\"><img src=\"https://colab.research.google.com/assets/colab-badge.svg\" alt=\"Open In Colab\"/></a>"
      ]
    },
    {
      "cell_type": "markdown",
      "source": [
        "# 手順"
      ],
      "metadata": {
        "id": "RI1gzQA2pSGH"
      }
    },
    {
      "cell_type": "markdown",
      "source": [
        "1. 「グラフテンプレート：○○○」セル配下をページの先頭にコピペして実行する\n",
        "2. 「テンプレート」セル配下の各テキストセルの内容をコードセルにコピペして利用する内容に合わせて実装を修正する\n",
        "  * 「テンプレート」の代わりに対応する「使用例」でも可\n",
        "3. 「日本語対応」、「関数定義」、2で修正したセルの順に実行する"
      ],
      "metadata": {
        "id": "sc7P_m2VpRyG"
      }
    },
    {
      "cell_type": "markdown",
      "metadata": {
        "id": "ddo_wXz-6v1H"
      },
      "source": [
        "# グラフテンプレート：散布図"
      ]
    },
    {
      "cell_type": "markdown",
      "metadata": {
        "id": "cT6bwiA9rPa2"
      },
      "source": [
        "## 日本語対応"
      ]
    },
    {
      "cell_type": "code",
      "metadata": {
        "id": "PYxDgBoVyWCJ"
      },
      "source": [
        "#@title ##### 日本語対応 { vertical-output: true, display-mode: \"form\" }\n",
        "# 日本語化モジュールインストール\n",
        "!pip install -qq japanize-matplotlib\n",
        "\n",
        "# 日本語化モジュールインポート\n",
        "import japanize_matplotlib"
      ],
      "execution_count": null,
      "outputs": []
    },
    {
      "cell_type": "markdown",
      "metadata": {
        "id": "L5q2c2bMrL3d"
      },
      "source": [
        "## [関数定義](https://colab.research.google.com/drive/1JP2Vih3tGeX8-cbJLCL-lFN_eoL2Rhtv#scrollTo=cqZzamfb-wrq&line=1&uniqifier=1)"
      ]
    },
    {
      "cell_type": "markdown",
      "source": [
        "以下のどちらかの関数を利用"
      ],
      "metadata": {
        "id": "Fi7_ImlR6SAO"
      }
    },
    {
      "cell_type": "code",
      "metadata": {
        "id": "F0R3p7-z8OL9"
      },
      "source": [
        "#@title ##### 関数定義：グラフ描画関数 { vertical-output: true, display-mode: \"form\" }\n",
        "#@markdown 関数名：`scatter_data_plt`\n",
        "#@markdown * 引数：`x`, `y`, `view_range=None`, `title=None`, `label_x=None`, `label_y=None`, `grid=False`\n",
        "def scatter_data_plt(x, y, view_range=None,\n",
        "                     title=None, label_x=None, label_y=None,\n",
        "                     grid=False):\n",
        "  \"\"\"plt版データ描画関数\n",
        "\n",
        "    指定されたデータを描画する\n",
        "\n",
        "    Args:\n",
        "        x (list): X軸のデータ\n",
        "        y (list): Y軸のデータ\n",
        "        view_range (list): X軸の最小値, X軸の最大値, Y軸の最小値, Y軸の最大値\n",
        "        title (str): グラフのタイトル\n",
        "        label_x (str): X軸のラベル\n",
        "        label_y (str): Y軸のラベル\n",
        "        grid (bool): True or False\n",
        "\n",
        "    Returns:\n",
        "        None\n",
        "  \"\"\"\n",
        "  import matplotlib.pyplot as plt\n",
        "  import math\n",
        "\n",
        "  # 表示範囲の設定\n",
        "  if view_range:\n",
        "    plt.axis(view_range)\n",
        "  else:\n",
        "    plt.axis([math.min(x), math.max(x), math.min(y), math.max(y)])\n",
        "\n",
        "  # グラフのタイトル\n",
        "  if title:\n",
        "    plt.title(title)\n",
        "\n",
        "  # 軸のラベル\n",
        "  if label_x:\n",
        "    plt.xlabel(label_x)\n",
        "  if label_y:\n",
        "    plt.ylabel(label_y)\n",
        "\n",
        "  # x軸の太線化\n",
        "  plt.axhline(0, linewidth=2, color='grey')\n",
        "\n",
        "  # y軸の太線化\n",
        "  plt.axvline(0, linewidth=2, color='grey')\n",
        "\n",
        "  # グリッド\n",
        "  plt.grid(grid)\n",
        "\n",
        "  # グラフの指定\n",
        "  plt.scatter(x,y,c='k', label='scatter')\n",
        "  # plt.hist(x, label='hist')\n",
        "  # plt.pie(x)\n",
        "  # plt.plot(x, y, label='plot', linestyle='')\n",
        "  # plt.plot(x, y, label='plot', linestyle='')\n",
        "  # plt.plot(x, y, label='plot', linestyle='')\n",
        "  # plt.plot(x, y, label='plot', linestyle='')\n",
        "  # plt.plot(x, y, label='plot', linestyle='')\n",
        "\n",
        "  # 凡例\n",
        "  # plt.legend(loc='upper left')\n",
        "\n",
        "  # 描画\n",
        "  plt.show()\n"
      ],
      "execution_count": null,
      "outputs": []
    },
    {
      "cell_type": "code",
      "metadata": {
        "id": "zuEybqIB_JY-"
      },
      "source": [
        "#@title ##### 関数定義：グラフ描画関数 { vertical-output: true, display-mode: \"form\" }\n",
        "#@markdown 関数名：`scatter_data_ax`\n",
        "#@markdown * 引数：`x`, `y`, `view_range=None`, `title=None`, `label_x=None`, `label_y=None`, `grid=False`\n",
        "def scatter_data_ax(x, y, view_range=None,\n",
        "                    title=None, label_x=None, label_y=None,\n",
        "                    grid=False):\n",
        "  \"\"\"ax版データ描画関数\n",
        "\n",
        "    指定されたデータを描画する\n",
        "\n",
        "    Args:\n",
        "        x (list): X軸のデータ\n",
        "        y (list): Y軸のデータ\n",
        "        view_range (list): X軸の最小値, X軸の最大値, Y軸の最小値, Y軸の最大値\n",
        "        title (str): グラフのタイトル\n",
        "        label_x (str): X軸のラベル\n",
        "        label_y (str): Y軸のラベル\n",
        "        grid (bool): True or False\n",
        "\n",
        "    Returns:\n",
        "        None\n",
        "  \"\"\"\n",
        "  import matplotlib.pyplot as plt\n",
        "  import math\n",
        "\n",
        "  fig = plt.figure()\n",
        "  ax = fig.add_subplot(1,1,1)\n",
        "\n",
        "  # 表示範囲の設定\n",
        "  if view_range:\n",
        "    ax.axis(view_range)\n",
        "  else:\n",
        "    ax.axis([math.min(x), math.max(x), math.min(y), math.max(y)])\n",
        "\n",
        "  # グラフのタイトル\n",
        "  if title:\n",
        "    ax.set_title(title)\n",
        "\n",
        "  # 軸のラベル\n",
        "  if label_x:\n",
        "    ax.set_xlabel(label_x)\n",
        "  if label_y:\n",
        "    ax.set_ylabel(label_y)\n",
        "\n",
        "  # x軸の太線化\n",
        "  ax.axhline(0, linewidth=2, color='grey')\n",
        "\n",
        "  # y軸の太線化\n",
        "  ax.axvline(0, linewidth=2, color='grey')\n",
        "\n",
        "  # グリッド\n",
        "  ax.grid(grid)\n",
        "\n",
        "  # グラフの指定\n",
        "  ax.scatter(x,y,c='k', label='scatter')\n",
        "  # ax.hist(x, label='hist')\n",
        "  # ax.pie(x)\n",
        "  # ax.plot(x, y, label='plot')\n",
        "\n",
        "  # 凡例\n",
        "  # ax.legend(loc='upper left')\n",
        "\n",
        "  # 描画\n",
        "  plt.show()\n"
      ],
      "execution_count": null,
      "outputs": []
    },
    {
      "cell_type": "markdown",
      "metadata": {
        "id": "bOKnbKVirL3e"
      },
      "source": [
        "## テンプレート"
      ]
    },
    {
      "cell_type": "markdown",
      "source": [
        "```python\n",
        "# データ定義\n",
        "data = {\n",
        "    # データ（本来はファイルなどから読み込む）\n",
        "    'x': X軸のデータ,\n",
        "    'y': Y軸のデータ,\n",
        "}\n",
        "```"
      ],
      "metadata": {
        "id": "LNSZoiILxjB6"
      }
    },
    {
      "cell_type": "markdown",
      "source": [
        "```python\n",
        "# グラフパラメタ\n",
        "params = {\n",
        "    # 表示範囲の設定\n",
        "    'view_range': [X軸の最小値, X軸の最大値, Y軸の最小値, Y軸の最大値],\n",
        "\n",
        "    # グラフのタイトル\n",
        "    'title': 'グラフのタイトル',\n",
        "\n",
        "    # 軸のラベル\n",
        "    'label_x': 'X軸のラベル',\n",
        "    'label_y': 'Y軸のラベル',\n",
        "\n",
        "    # グリッド\n",
        "    'grid': True\n",
        "}\n",
        "```"
      ],
      "metadata": {
        "id": "YgUVqN4PxjB6"
      }
    },
    {
      "cell_type": "markdown",
      "source": [
        "```python\n",
        "# 実行\n",
        "scatter_data_plt(**data, **params)\n",
        "```"
      ],
      "metadata": {
        "id": "KITudi4srL3e"
      }
    },
    {
      "cell_type": "markdown",
      "source": [
        "```python\n",
        "# 実行\n",
        "scatter_data_ax(**data, **params)\n",
        "```"
      ],
      "metadata": {
        "id": "5wuX9ubprL3e"
      }
    }
  ]
}