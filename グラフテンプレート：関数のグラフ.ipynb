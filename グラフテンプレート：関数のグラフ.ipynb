{
  "nbformat": 4,
  "nbformat_minor": 0,
  "metadata": {
    "colab": {
      "provenance": [],
      "toc_visible": true,
      "authorship_tag": "ABX9TyMAj/77ANzp0nui9C+1O3/J",
      "include_colab_link": true
    },
    "kernelspec": {
      "name": "python3",
      "display_name": "Python 3"
    },
    "language_info": {
      "name": "python"
    }
  },
  "cells": [
    {
      "cell_type": "markdown",
      "metadata": {
        "id": "view-in-github",
        "colab_type": "text"
      },
      "source": [
        "<a href=\"https://colab.research.google.com/github/sasuraibito1125/google_colab/blob/main/%E3%82%B0%E3%83%A9%E3%83%95%E3%83%86%E3%83%B3%E3%83%97%E3%83%AC%E3%83%BC%E3%83%88%EF%BC%9A%E9%96%A2%E6%95%B0%E3%81%AE%E3%82%B0%E3%83%A9%E3%83%95.ipynb\" target=\"_parent\"><img src=\"https://colab.research.google.com/assets/colab-badge.svg\" alt=\"Open In Colab\"/></a>"
      ]
    },
    {
      "cell_type": "markdown",
      "source": [
        "# 手順"
      ],
      "metadata": {
        "id": "RI1gzQA2pSGH"
      }
    },
    {
      "cell_type": "markdown",
      "source": [
        "1. 「グラフテンプレート：○○○」セル配下をページの先頭にコピペして実行する\n",
        "2. 「テンプレート」セル配下の各テキストセルの内容をコードセルにコピペして利用する内容に合わせて実装を修正する\n",
        "  * 「テンプレート」の代わりに対応する「使用例」でも可\n",
        "3. 「日本語対応」、「関数定義」、2で修正したセルの順に実行する"
      ],
      "metadata": {
        "id": "sc7P_m2VpRyG"
      }
    },
    {
      "cell_type": "markdown",
      "source": [
        "# グラフテンプレート：関数のグラフ"
      ],
      "metadata": {
        "id": "tHMKixoUhqgn"
      }
    },
    {
      "cell_type": "markdown",
      "metadata": {
        "id": "N3ldqCUJhqgn"
      },
      "source": [
        "## 日本語対応"
      ]
    },
    {
      "cell_type": "code",
      "metadata": {
        "id": "rO_cRYY4yW_R"
      },
      "source": [
        "#@title ##### 日本語対応 { vertical-output: true, display-mode: \"form\" }\n",
        "# 日本語化モジュールインストール\n",
        "!pip install -qq japanize-matplotlib\n",
        "\n",
        "# 日本語化モジュールインポート\n",
        "import japanize_matplotlib"
      ],
      "execution_count": null,
      "outputs": []
    },
    {
      "cell_type": "markdown",
      "source": [
        "## [関数定義](https://colab.research.google.com/drive/1JP2Vih3tGeX8-cbJLCL-lFN_eoL2Rhtv#scrollTo=3sKBV9xj7dLH)"
      ],
      "metadata": {
        "id": "Ez4UCggahqgo"
      }
    },
    {
      "cell_type": "markdown",
      "source": [
        "### 算数値算出関数"
      ],
      "metadata": {
        "id": "7iAL_lXdCTKK"
      }
    },
    {
      "cell_type": "code",
      "source": [
        "#@title ##### 関数定義：関数の値の計算 { vertical-output: true, display-mode: \"form\" }\n",
        "#@markdown 関数名：`calc_values`\n",
        "#@markdown * 引数：`f`, `N`, `xmin`, `xmax`, `multiple=False`\n",
        "#@markdown * 戻り値：`tuple<ndarray, ndarray>`\n",
        "def calc_values(f, N, xmin, xmax, multiple=False):\n",
        "  \"\"\"関数の値の計算\n",
        "\n",
        "    指定された関数の値を算出する\n",
        "\n",
        "    Args:\n",
        "        f (function): 関数定義（必須）\n",
        "        N (int): 定義域の分割数（プロット数）（必須）\n",
        "        xmin (number): 定義域の最小値（必須）\n",
        "        xmax (number): 定義域の最大値（必須）\n",
        "        multiple (bool): 関数の引数がコレクションか否か\n",
        "\n",
        "    Returns:\n",
        "        Xの値、Yの値\n",
        "  \"\"\"\n",
        "  import numpy as np\n",
        "\n",
        "  # 定義域\n",
        "  d = np.linspace(xmin, xmax, N)\n",
        "  # 値域\n",
        "  r = f(d) if multiple else [f(d[i]) for i in range(N)]\n",
        "\n",
        "  return d, r"
      ],
      "metadata": {
        "id": "LArOMKGzK6Xz"
      },
      "execution_count": null,
      "outputs": []
    },
    {
      "cell_type": "code",
      "source": [
        "#@title ##### 関数定義：離散用の関数値算出関数\n",
        "#@markdown 関数名：`calc_values_discrete`\n",
        "#@markdown * 引数：`f`, `N`, `xmin`, `xmax`, `multiple=False`\n",
        "#@markdown * 戻り値：`tuple<ndarray, ndarray>`\n",
        "def calc_values_discrete(f, N, xmin, xmax, multiple=False):\n",
        "  \"\"\"関数の値の計算（離散用）\n",
        "\n",
        "    指定された関数の値を算出する\n",
        "\n",
        "    Args:\n",
        "        f (function): 関数定義\n",
        "        N (int): 定義域の分割数（プロット数）\n",
        "        xmin (number): 定義域の最小値\n",
        "        xmax (number): 定義域の最大値\n",
        "        multiple (bool): 関数の引数がコレクションか否か\n",
        "\n",
        "    Returns:\n",
        "        Xの値、Yの値\n",
        "  \"\"\"\n",
        "  import numpy as np\n",
        "\n",
        "  # 定義域\n",
        "  d = np.arange(xmin, xmax, N)\n",
        "  # 値域\n",
        "  r = f(d) if multiple else [f(d[i]) for i in range(N)]\n",
        "  return d, r\n"
      ],
      "metadata": {
        "cellView": "form",
        "id": "7nweVnQph56x"
      },
      "execution_count": null,
      "outputs": []
    },
    {
      "cell_type": "markdown",
      "source": [
        "### 描画関数"
      ],
      "metadata": {
        "id": "qt91Jq4HCWzd"
      }
    },
    {
      "cell_type": "code",
      "source": [
        "#@title ##### 関数定義：ヒストグラム描画関数 { vertical-output: true, display-mode: \"form\" }\n",
        "#@markdown 変数名：`draw_bar`\n",
        "#@markdown * 引数：`plt`, `d`, `r`, `label`\n",
        "#@markdown * 戻り値：`BarContainer`\n",
        "draw_bar = lambda plt, d, r, label: plt.bar(d, r, label=label)"
      ],
      "metadata": {
        "id": "1iYoPWzmkyea"
      },
      "execution_count": null,
      "outputs": []
    },
    {
      "cell_type": "code",
      "source": [
        "#@title ##### 関数定義：散布図描画関数 { vertical-output: true, display-mode: \"form\" }\n",
        "#@markdown 変数名：`draw_scatter`\n",
        "#@markdown * 引数：`plt`, `d`, `r`, `label`\n",
        "#@markdown * 戻り値：`PathCollection`\n",
        "draw_scatter = lambda plt, d, r, label: plt.scatter(d, r, label=label)"
      ],
      "metadata": {
        "id": "ME1QW9QHBRlq"
      },
      "execution_count": null,
      "outputs": []
    },
    {
      "cell_type": "markdown",
      "source": [
        "### グラフ作成"
      ],
      "metadata": {
        "id": "KfGVTFzdCRVR"
      }
    },
    {
      "cell_type": "code",
      "source": [
        "#@title ##### 関数定義：グラフ描画関数 { vertical-output: true, display-mode: \"form\" }\n",
        "#@markdown 関数名：`draw_graph`\n",
        "#@markdown * 引数：`d`, `r`, `view_range=None`, `title=None`, `label=None`, `square=False`, `draw_func=lambda plt, d, r, label: plt.plot(d, r, linestyle='-', label=label) if label else plt.plot(d, r, linestyle='-')`\n",
        "def draw_graph(d, r, view_range=None, title=None, label=None, square=False,\n",
        "               draw_func=lambda plt, d, r, label: plt.plot(d, r, linestyle='-', label=label) if label\n",
        "               else plt.plot(d, r, linestyle='-')):\n",
        "  \"\"\"グラフ描画関数\n",
        "\n",
        "    指定されたデータに対するグラフを描画する\n",
        "\n",
        "    Args:\n",
        "        d (list): 定義域のデータ値（必須）\n",
        "        r (list): 値域のデータ値（必須）\n",
        "        view_range (list): 表示する値域の最小値, 表示する値域の最大値,\n",
        "                           表示する定義域の最小値, 表示する定義域の最大値\n",
        "        title (str): グラフのタイトル\n",
        "        label (str): グラフのラベル\n",
        "        square (boolean): アスペクトを等しくするか（TODO パラメタ位置変更）\n",
        "        draw_func (function): 描画関数（デフォルトはplot）\n",
        "\n",
        "    Returns:\n",
        "        None\n",
        "  \"\"\"\n",
        "  import matplotlib.pyplot as plt\n",
        "  import math\n",
        "\n",
        "  # アスペクトをそろえる\n",
        "  if square:\n",
        "    plt.axes().set_aspect('equal')\n",
        "\n",
        "  # 横軸(horizon)ゼロの太線化\n",
        "  plt.axhline(0, linewidth=1, color='grey')\n",
        "\n",
        "  # 縦軸(Vertical)ゼロの太線化\n",
        "  plt.axvline(0, linewidth=1, color='grey')\n",
        "\n",
        "  # 表示範囲の設定\n",
        "  if view_range:\n",
        "    plt.axis(view_range)\n",
        "  else:\n",
        "    plt.axis([math.min(r), math.max(r), math.min(d), math.max(d)])\n",
        "\n",
        "  # グラフのタイトルの設定\n",
        "  if title:\n",
        "    plt.title(title)\n",
        "\n",
        "  # 描画\n",
        "  if not draw_func:\n",
        "    draw_func =lambda plt, d, r, label: plt.plot(d, r, linestyle='-', label=label) if label \\\n",
        "      else plt.plot(d, r, linestyle='-')\n",
        "  draw_func(plt, d, r, label)\n",
        "  if label:\n",
        "    plt.legend()\n",
        "  plt.show()"
      ],
      "metadata": {
        "id": "aB69qqgxKyi9"
      },
      "execution_count": null,
      "outputs": []
    },
    {
      "cell_type": "code",
      "metadata": {
        "id": "9Ba3yQxW__z2"
      },
      "source": [
        "#@title ##### 関数定義：関数グラフ描画関数 { vertical-output: true, display-mode: \"form\" }\n",
        "#@markdown 関数名：`draw_function`\n",
        "#@markdown * 引数：`f`, `N`, `xmin`, `xmax`, `multiple=False`, `calc_values=calc_values`, `view_range=None`, `title=None`, `label=None`, `draw_func=None`\n",
        "#@markdown * 戻り値：`tuple<ndarray, ndarray>`\n",
        "def draw_function(f, N, xmin, xmax, multiple=False, calc_values=calc_values,\n",
        "                  view_range=None, title=None, label=None, draw_func=None):\n",
        "  \"\"\"関数グラフ描画関数\n",
        "\n",
        "    指定された関数のグラフを描画する\n",
        "\n",
        "    Args:\n",
        "        f (function): 関数定義（必須）\n",
        "        N (int): 定義域の分割数（プロット数）（必須）\n",
        "        xmin (number): 定義域の最小値（必須）\n",
        "        xmax (number): 定義域の最大値（必須）\n",
        "        multiple (bool): 関数の引数がコレクションか否か\n",
        "        calc_values (function): データ値計算関数\n",
        "        view_range (list): 表示する値域の最小値, 表示する値域の最大値,\n",
        "                           表示する定義域の最小値, 表示する定義域の最大値\n",
        "        title (str): グラフのタイトル\n",
        "        label (str): グラフのラベル\n",
        "        draw_func (function): 描画関数\n",
        "\n",
        "    Returns:\n",
        "        None\n",
        "  \"\"\"\n",
        "  import math\n",
        "\n",
        "  # 描画する値を計算\n",
        "  d, r = calc_values(f, N, xmin, xmax, multiple=multiple)\n",
        "\n",
        "  # 表示範囲の設定\n",
        "  if not view_range:\n",
        "    view_range = [xmin, xmax, math.min(d), math.max(d)]\n",
        "\n",
        "  # 計算された値でグラフを描画\n",
        "  draw_graph(d, r, view_range, title, label, draw_func)"
      ],
      "execution_count": null,
      "outputs": []
    },
    {
      "cell_type": "markdown",
      "source": [
        "## テンプレート"
      ],
      "metadata": {
        "id": "4C4vBXmstCnE"
      }
    },
    {
      "cell_type": "markdown",
      "source": [
        "```python\n",
        "# 関数の定義\n",
        "def f(x):\n",
        "  # 描画する関数の定義\n",
        "  # y = f(x) の式そのもの\n",
        "```"
      ],
      "metadata": {
        "id": "lFWu3whHtCnF"
      }
    },
    {
      "cell_type": "markdown",
      "source": [
        "```python\n",
        "# データ定義\n",
        "data = {\n",
        "  # データの範囲と個数\n",
        "  'N': 定義域の分割数（プロット数）,\n",
        "  'xmin': 定義域の最小値,\n",
        "  'xmax': 定義域の最大値,\n",
        "\n",
        "  # 関数の引数がコレクションか否か\n",
        "  'multiple': False,\n",
        "}\n",
        "```"
      ],
      "metadata": {
        "id": "YthBFg8otCnF"
      }
    },
    {
      "cell_type": "markdown",
      "source": [
        "```python\n",
        "# グラフパラメタ\n",
        "params = {\n",
        "  # グラフの範囲\n",
        "  'view_range': [表示する定義域の最小値, 表示する定義域の最大値, 表示する値域の最小値, 表示する値域の最大値],\n",
        "  'view_range': [data['xmin'], data['xmax'], 表示する値域の最小値, 表示する値域の最大値], # 例\n",
        "\n",
        "  # グラフのタイトルとラベル\n",
        "  'title': 'グラフのタイトル',\n",
        "  'label': 'グラフのラベル'\n",
        "}\n",
        "```"
      ],
      "metadata": {
        "id": "_zS0FgbYwiol"
      }
    },
    {
      "cell_type": "markdown",
      "source": [
        "```python\n",
        "# 実行\n",
        "draw_function(f, **data, **params)\n",
        "````"
      ],
      "metadata": {
        "id": "oelItNkktCnF"
      }
    }
  ]
}