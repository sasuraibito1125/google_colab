{
  "nbformat": 4,
  "nbformat_minor": 0,
  "metadata": {
    "colab": {
      "provenance": [],
      "toc_visible": true,
      "authorship_tag": "ABX9TyOGvjSullbU8rGM211P/f5b",
      "include_colab_link": true
    },
    "kernelspec": {
      "name": "python3",
      "display_name": "Python 3"
    },
    "language_info": {
      "name": "python"
    }
  },
  "cells": [
    {
      "cell_type": "markdown",
      "metadata": {
        "id": "view-in-github",
        "colab_type": "text"
      },
      "source": [
        "<a href=\"https://colab.research.google.com/github/sasuraibito1125/google_colab/blob/main/%E3%82%B0%E3%83%A9%E3%83%95%E3%83%86%E3%83%B3%E3%83%97%E3%83%AC%E3%83%BC%E3%83%88%EF%BC%9A%E3%83%87%E3%83%BC%E3%82%BF%E3%81%AE%E3%82%B0%E3%83%A9%E3%83%95.ipynb\" target=\"_parent\"><img src=\"https://colab.research.google.com/assets/colab-badge.svg\" alt=\"Open In Colab\"/></a>"
      ]
    },
    {
      "cell_type": "markdown",
      "source": [
        "# 手順"
      ],
      "metadata": {
        "id": "RI1gzQA2pSGH"
      }
    },
    {
      "cell_type": "markdown",
      "source": [
        "1. 「グラフテンプレート：○○○」セル配下をページの先頭にコピペして実行する\n",
        "2. 「テンプレート」セル配下の各テキストセルの内容をコードセルにコピペして利用する内容に合わせて実装を修正する\n",
        "  * 「テンプレート」の代わりに対応する「使用例」でも可\n",
        "3. 「日本語対応」、「関数定義」、2で修正したセルの順に実行する"
      ],
      "metadata": {
        "id": "sc7P_m2VpRyG"
      }
    },
    {
      "cell_type": "markdown",
      "source": [
        "# グラフテンプレート：データのグラフ"
      ],
      "metadata": {
        "id": "tpeYKgBJ5to1"
      }
    },
    {
      "cell_type": "markdown",
      "metadata": {
        "id": "laiGOzOfGJ-o"
      },
      "source": [
        "## 日本語対応"
      ]
    },
    {
      "cell_type": "code",
      "metadata": {
        "id": "vb_sFygl9HIL"
      },
      "source": [
        "#@title ##### 日本語対応 { vertical-output: true, display-mode: \"form\" }\n",
        "# 日本語化モジュールインストール\n",
        "!pip install -qq japanize-matplotlib\n",
        "\n",
        "# 日本語化モジュールインポート\n",
        "import japanize_matplotlib"
      ],
      "execution_count": null,
      "outputs": []
    },
    {
      "cell_type": "markdown",
      "source": [
        "## 関数定義"
      ],
      "metadata": {
        "id": "ORLPoxS0GJ-o"
      }
    },
    {
      "cell_type": "markdown",
      "source": [
        "### 算数値算出関数"
      ],
      "metadata": {
        "id": "gNzXDyTqCwXs"
      }
    },
    {
      "cell_type": "code",
      "source": [
        "#@title ##### 関数定義：関数の値の計算 { vertical-output: true, display-mode: \"form\" }\n",
        "#@markdown 関数名：`calc_values`\n",
        "#@markdown * 引数：`f`, `N`, `xmin`, `xmax`, `multiple=False`\n",
        "#@markdown * 戻り値：`tuple<ndarray, ndarray>`\n",
        "def calc_values(f, N, xmin, xmax, multiple=False):\n",
        "  \"\"\"関数の値の計算\n",
        "\n",
        "    指定された関数の値を算出する\n",
        "\n",
        "    Args:\n",
        "        f (function): 関数定義（必須）\n",
        "        N (int): 定義域の分割数（プロット数）（必須）\n",
        "        xmin (number): 定義域の最小値（必須）\n",
        "        xmax (number): 定義域の最大値（必須）\n",
        "        multiple (bool): 関数の引数がコレクションか否か\n",
        "\n",
        "    Returns:\n",
        "        Xの値、Yの値\n",
        "  \"\"\"\n",
        "  import numpy as np\n",
        "\n",
        "  # 定義域\n",
        "  d = np.linspace(xmin, xmax, N)\n",
        "  # 値域\n",
        "  r = f(d) if multiple else [f(d[i]) for i in range(N)]\n",
        "\n",
        "  return d, r"
      ],
      "metadata": {
        "id": "LArOMKGzK6Xz"
      },
      "execution_count": null,
      "outputs": []
    },
    {
      "cell_type": "code",
      "source": [
        "#@title ##### 関数定義：離散用の関数値算出関数\n",
        "#@markdown 関数名：`calc_values_discrete`\n",
        "#@markdown * 引数：`f`, `N`, `xmin`, `xmax`, `multiple=False`\n",
        "#@markdown * 戻り値：`tuple<ndarray, ndarray>`\n",
        "def calc_values_discrete(f, N, xmin, xmax, multiple=False):\n",
        "  \"\"\"関数の値の計算（離散用）\n",
        "\n",
        "    指定された関数の値を算出する\n",
        "\n",
        "    Args:\n",
        "        f (function): 関数定義\n",
        "        N (int): 定義域の分割数（プロット数）\n",
        "        xmin (number): 定義域の最小値\n",
        "        xmax (number): 定義域の最大値\n",
        "        multiple (bool): 関数の引数がコレクションか否か\n",
        "\n",
        "    Returns:\n",
        "        Xの値、Yの値\n",
        "  \"\"\"\n",
        "  import numpy as np\n",
        "\n",
        "  # 定義域\n",
        "  d = np.arange(xmin, xmax, N)\n",
        "  # 値域\n",
        "  r = f(d) if multiple else [f(d[i]) for i in range(N)]\n",
        "  return d, r\n"
      ],
      "metadata": {
        "cellView": "form",
        "id": "7nweVnQph56x"
      },
      "execution_count": null,
      "outputs": []
    },
    {
      "cell_type": "markdown",
      "source": [
        "### 描画関数"
      ],
      "metadata": {
        "id": "ffZPpT8xC00y"
      }
    },
    {
      "cell_type": "code",
      "source": [
        "#@title ##### 関数定義：ヒストグラム描画関数 { vertical-output: true, display-mode: \"form\" }\n",
        "#@markdown 変数名：`draw_bar`\n",
        "#@markdown * 引数：`plt`, `d`, `r`, `label`\n",
        "#@markdown * 戻り値：`BarContainer`\n",
        "draw_bar = lambda plt, d, r, label: plt.bar(d, r, label=label)"
      ],
      "metadata": {
        "id": "1iYoPWzmkyea"
      },
      "execution_count": null,
      "outputs": []
    },
    {
      "cell_type": "code",
      "source": [
        "#@title ##### 関数定義：散布図描画関数 { vertical-output: true, display-mode: \"form\" }\n",
        "#@markdown 変数名：`draw_scatter`\n",
        "#@markdown * 引数：`plt`, `d`, `r`, `label`\n",
        "#@markdown * 戻り値：`PathCollection`\n",
        "draw_scatter = lambda plt, d, r, label: plt.scatter(d, r, label=label)"
      ],
      "metadata": {
        "id": "ME1QW9QHBRlq"
      },
      "execution_count": null,
      "outputs": []
    },
    {
      "cell_type": "markdown",
      "source": [
        "### グラフ作成"
      ],
      "metadata": {
        "id": "UN6KzI3YCt2c"
      }
    },
    {
      "cell_type": "code",
      "source": [
        "#@title ##### 関数定義：グラフ描画関数 { vertical-output: true, display-mode: \"form\" }\n",
        "#@markdown 関数名：`draw_graph`\n",
        "#@markdown * 引数：`d`, `r`, `view_range=None`, `title=None`, `label=None`, `square=False`, `draw_func=lambda plt, d, r, label: plt.plot(d, r, linestyle='-', label=label) if label else plt.plot(d, r, linestyle='-')`\n",
        "def draw_graph(d, r, view_range=None, title=None, label=None, square=False,\n",
        "               draw_func=lambda plt, d, r, label: plt.plot(d, r, linestyle='-', label=label) if label\n",
        "               else plt.plot(d, r, linestyle='-')):\n",
        "  \"\"\"グラフ描画関数\n",
        "\n",
        "    指定されたデータに対するグラフを描画する\n",
        "\n",
        "    Args:\n",
        "        d (list): 定義域のデータ値（必須）\n",
        "        r (list): 値域のデータ値（必須）\n",
        "        view_range (list): 表示する値域の最小値, 表示する値域の最大値,\n",
        "                           表示する定義域の最小値, 表示する定義域の最大値\n",
        "        title (str): グラフのタイトル\n",
        "        label (str): グラフのラベル\n",
        "        square (boolean): アスペクトを等しくするか（TODO パラメタ位置変更）\n",
        "        draw_func (function): 描画関数（デフォルトはplot）\n",
        "\n",
        "    Returns:\n",
        "        None\n",
        "  \"\"\"\n",
        "  import matplotlib.pyplot as plt\n",
        "  import math\n",
        "\n",
        "  # アスペクトをそろえる\n",
        "  if square:\n",
        "    plt.axes().set_aspect('equal')\n",
        "\n",
        "  # 横軸(horizon)ゼロの太線化\n",
        "  plt.axhline(0, linewidth=1, color='grey')\n",
        "\n",
        "  # 縦軸(Vertical)ゼロの太線化\n",
        "  plt.axvline(0, linewidth=1, color='grey')\n",
        "\n",
        "  # 表示範囲の設定\n",
        "  if view_range:\n",
        "    plt.axis(view_range)\n",
        "  else:\n",
        "    plt.axis([math.min(r), math.max(r), math.min(d), math.max(d)])\n",
        "\n",
        "  # グラフのタイトルの設定\n",
        "  if title:\n",
        "    plt.title(title)\n",
        "\n",
        "  # 描画\n",
        "  if not draw_func:\n",
        "    draw_func =lambda plt, d, r, label: plt.plot(d, r, linestyle='-', label=label) if label \\\n",
        "      else plt.plot(d, r, linestyle='-')\n",
        "  draw_func(plt, d, r, label)\n",
        "  if label:\n",
        "    plt.legend()\n",
        "  plt.show()"
      ],
      "metadata": {
        "id": "IfZPgZ4x0PSf"
      },
      "execution_count": null,
      "outputs": []
    },
    {
      "cell_type": "markdown",
      "source": [
        "## テンプレート"
      ],
      "metadata": {
        "id": "Tsw2hQM9tJNk"
      }
    },
    {
      "cell_type": "markdown",
      "source": [
        "```python\n",
        "# グラフパラメタ\n",
        "params = {\n",
        "  # グラフの範囲\n",
        "  'view_range': [表示する定義域の最小値, 表示する定義域の最大値, 表示する値域の最小値, 表示する値域の最大値],\n",
        "\n",
        "  # グラフのタイトルとラベル\n",
        "  'title': 'グラフのタイトル',\n",
        "  'label': 'グラフのラベル'\n",
        "}\n",
        "```"
      ],
      "metadata": {
        "id": "hBBklJwI-XgX"
      }
    },
    {
      "cell_type": "markdown",
      "source": [
        "```python\n",
        "# 実行\n",
        "draw_graph(xdata, ydata, **params)\n",
        "````"
      ],
      "metadata": {
        "id": "-hHUvjn0ww2_"
      }
    },
    {
      "cell_type": "markdown",
      "source": [
        "# 使用例"
      ],
      "metadata": {
        "id": "ZTeUT2UYWH0v"
      }
    },
    {
      "cell_type": "markdown",
      "source": [
        "※ここで実行する場合は各使用例に対して以下の手順で行う\n",
        "1. 使用例に対応する上記テンプレートモジュールの「日本語対応」セルを実行する\n",
        "2. 使用例に対応する上記テンプレートモジュールの「関数定義」セルを実行する\n",
        "3. 使用例に対応する下記の例のセルを実行する"
      ],
      "metadata": {
        "id": "zyx-lt3fsq8a"
      }
    },
    {
      "cell_type": "code",
      "source": [
        "#@title ##### データのグラフの例 { vertical-output: true, display-mode: \"both\" }\n",
        "# グラフパラメタ\n",
        "params = {\n",
        "  # グラフの範囲\n",
        "  'view_range': [-12, 12, -100, 100],\n",
        "\n",
        "  # グラフのタイトルとラベル\n",
        "  'title': 'データのグラフの例',\n",
        "  'label': 'データ'\n",
        "}\n",
        "\n",
        "# 実行\n",
        "draw_graph(np.arange(-10, 10, 1), np.arange(-100, 100, 10), **params)"
      ],
      "metadata": {
        "id": "PWdomiLidLJy",
        "colab": {
          "base_uri": "https://localhost:8080/",
          "height": 450
        },
        "outputId": "703382cb-0174-40b3-a14c-16b4a15f61bb"
      },
      "execution_count": null,
      "outputs": [
        {
          "output_type": "display_data",
          "data": {
            "text/plain": [
              "<Figure size 640x480 with 1 Axes>"
            ],
            "image/png": "[encoded data removed]"
          },
          "metadata": {}
        }
      ]
    }
  ]
}